{
 "cells": [
  {
   "cell_type": "code",
   "execution_count": 1,
   "id": "c4487dc1",
   "metadata": {},
   "outputs": [],
   "source": [
    "import numpy as np"
   ]
  },
  {
   "cell_type": "code",
   "execution_count": 2,
   "id": "abc41f17",
   "metadata": {},
   "outputs": [],
   "source": [
    "a = np.arange(6)"
   ]
  },
  {
   "cell_type": "code",
   "execution_count": 3,
   "id": "6d8a590f",
   "metadata": {},
   "outputs": [
    {
     "data": {
      "text/plain": [
       "array([0, 1, 2, 3, 4, 5])"
      ]
     },
     "execution_count": 3,
     "metadata": {},
     "output_type": "execute_result"
    }
   ],
   "source": [
    "a"
   ]
  },
  {
   "cell_type": "code",
   "execution_count": 4,
   "id": "a2cb10c6",
   "metadata": {},
   "outputs": [],
   "source": [
    "b = np.array([12,5,15,5,6,4,8,9,16,8,56,84,87,65,748,44,6,4])"
   ]
  },
  {
   "cell_type": "code",
   "execution_count": 7,
   "id": "e894c536",
   "metadata": {},
   "outputs": [
    {
     "data": {
      "text/plain": [
       "array([[ 12,   5],\n",
       "       [ 15,   5],\n",
       "       [  6,   4],\n",
       "       [  8,   9],\n",
       "       [ 16,   8],\n",
       "       [ 56,  84],\n",
       "       [ 87,  65],\n",
       "       [748,  44],\n",
       "       [  6,   4]])"
      ]
     },
     "execution_count": 7,
     "metadata": {},
     "output_type": "execute_result"
    }
   ],
   "source": [
    "b.reshape(9,2)"
   ]
  },
  {
   "cell_type": "code",
   "execution_count": 8,
   "id": "370cf658",
   "metadata": {},
   "outputs": [
    {
     "data": {
      "text/plain": [
       "array([[ 12,   5,  15],\n",
       "       [  5,   6,   4],\n",
       "       [  8,   9,  16],\n",
       "       [  8,  56,  84],\n",
       "       [ 87,  65, 748],\n",
       "       [ 44,   6,   4]])"
      ]
     },
     "execution_count": 8,
     "metadata": {},
     "output_type": "execute_result"
    }
   ],
   "source": [
    "b.reshape(6,3)"
   ]
  },
  {
   "cell_type": "code",
   "execution_count": 22,
   "id": "91c451b4",
   "metadata": {},
   "outputs": [
    {
     "data": {
      "text/plain": [
       "array([[ 12,   5,  15,   5,   6,   4],\n",
       "       [  8,   9,  16,   8,  56,  84],\n",
       "       [ 87,  65, 748,  44,   6,   4]])"
      ]
     },
     "execution_count": 22,
     "metadata": {},
     "output_type": "execute_result"
    }
   ],
   "source": [
    "b = b.reshape(3,6)\n",
    "b"
   ]
  },
  {
   "cell_type": "code",
   "execution_count": 16,
   "id": "04bd5fbf",
   "metadata": {},
   "outputs": [],
   "source": [
    "c = np.array([12,5,15,5,6,4,8,9,16,8,56,84,87,65,748,44,6,4,3])"
   ]
  },
  {
   "cell_type": "code",
   "execution_count": 17,
   "id": "6a10faa0",
   "metadata": {},
   "outputs": [
    {
     "data": {
      "text/plain": [
       "array([18,  5, 17,  1,  3, 16,  4,  9,  6,  7,  0,  2,  8, 15, 10, 13, 11,\n",
       "       12, 14])"
      ]
     },
     "execution_count": 17,
     "metadata": {},
     "output_type": "execute_result"
    }
   ],
   "source": [
    "np.argsort(c)"
   ]
  },
  {
   "cell_type": "code",
   "execution_count": 18,
   "id": "e0d15b1f",
   "metadata": {},
   "outputs": [
    {
     "data": {
      "text/plain": [
       "18"
      ]
     },
     "execution_count": 18,
     "metadata": {},
     "output_type": "execute_result"
    }
   ],
   "source": [
    "np.argmin(c)"
   ]
  },
  {
   "cell_type": "code",
   "execution_count": 19,
   "id": "ce24df74",
   "metadata": {},
   "outputs": [
    {
     "data": {
      "text/plain": [
       "14"
      ]
     },
     "execution_count": 19,
     "metadata": {},
     "output_type": "execute_result"
    }
   ],
   "source": [
    "np.argmax(c)"
   ]
  },
  {
   "cell_type": "code",
   "execution_count": 23,
   "id": "0fd4aba1",
   "metadata": {},
   "outputs": [
    {
     "data": {
      "text/plain": [
       "array([[5, 1, 3, 4, 0, 2],\n",
       "       [0, 3, 1, 2, 4, 5],\n",
       "       [5, 4, 3, 1, 0, 2]])"
      ]
     },
     "execution_count": 23,
     "metadata": {},
     "output_type": "execute_result"
    }
   ],
   "source": [
    "np.argsort(b)"
   ]
  },
  {
   "cell_type": "code",
   "execution_count": 24,
   "id": "c7031bb8",
   "metadata": {},
   "outputs": [
    {
     "data": {
      "text/plain": [
       "array([[1, 0, 0, 0, 0, 0],\n",
       "       [0, 1, 1, 1, 2, 2],\n",
       "       [2, 2, 2, 2, 1, 1]])"
      ]
     },
     "execution_count": 24,
     "metadata": {},
     "output_type": "execute_result"
    }
   ],
   "source": [
    "np.argsort(b, axis=0)"
   ]
  },
  {
   "cell_type": "code",
   "execution_count": null,
   "id": "b2d9d341",
   "metadata": {},
   "outputs": [],
   "source": []
  }
 ],
 "metadata": {
  "kernelspec": {
   "display_name": "Python 3 (ipykernel)",
   "language": "python",
   "name": "python3"
  },
  "language_info": {
   "codemirror_mode": {
    "name": "ipython",
    "version": 3
   },
   "file_extension": ".py",
   "mimetype": "text/x-python",
   "name": "python",
   "nbconvert_exporter": "python",
   "pygments_lexer": "ipython3",
   "version": "3.8.10"
  }
 },
 "nbformat": 4,
 "nbformat_minor": 5
}
