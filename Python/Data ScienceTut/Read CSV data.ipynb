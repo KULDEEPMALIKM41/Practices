{
 "cells": [
  {
   "cell_type": "code",
   "execution_count": 1,
   "id": "92dd42c9",
   "metadata": {},
   "outputs": [],
   "source": [
    "import pandas as pd"
   ]
  },
  {
   "cell_type": "code",
   "execution_count": 2,
   "id": "795c5f72",
   "metadata": {},
   "outputs": [],
   "source": [
    "df = pd.read_csv('data.csv')"
   ]
  },
  {
   "cell_type": "code",
   "execution_count": 4,
   "id": "e0a06e79",
   "metadata": {},
   "outputs": [
    {
     "data": {
      "text/html": [
       "<div>\n",
       "<style scoped>\n",
       "    .dataframe tbody tr th:only-of-type {\n",
       "        vertical-align: middle;\n",
       "    }\n",
       "\n",
       "    .dataframe tbody tr th {\n",
       "        vertical-align: top;\n",
       "    }\n",
       "\n",
       "    .dataframe thead th {\n",
       "        text-align: right;\n",
       "    }\n",
       "</style>\n",
       "<table border=\"1\" class=\"dataframe\">\n",
       "  <thead>\n",
       "    <tr style=\"text-align: right;\">\n",
       "      <th></th>\n",
       "      <th>SYMBOL</th>\n",
       "      <th>SERIES</th>\n",
       "      <th>DATE1</th>\n",
       "      <th>PREV_CLOSE</th>\n",
       "      <th>OPEN_PRICE</th>\n",
       "      <th>HIGH_PRICE</th>\n",
       "      <th>LOW_PRICE</th>\n",
       "      <th>LAST_PRICE</th>\n",
       "      <th>CLOSE_PRICE</th>\n",
       "      <th>AVG_PRICE</th>\n",
       "      <th>TTL_TRD_QNTY</th>\n",
       "      <th>TURNOVER_LACS</th>\n",
       "      <th>NO_OF_TRADES</th>\n",
       "      <th>DELIV_QTY</th>\n",
       "      <th>DELIV_PER</th>\n",
       "    </tr>\n",
       "  </thead>\n",
       "  <tbody>\n",
       "    <tr>\n",
       "      <th>0</th>\n",
       "      <td>20MICRONS</td>\n",
       "      <td>EQ</td>\n",
       "      <td>26-Aug-2021</td>\n",
       "      <td>53.30</td>\n",
       "      <td>53.30</td>\n",
       "      <td>54.50</td>\n",
       "      <td>51.60</td>\n",
       "      <td>52.8</td>\n",
       "      <td>52.75</td>\n",
       "      <td>53.08</td>\n",
       "      <td>65185</td>\n",
       "      <td>34.60</td>\n",
       "      <td>1210</td>\n",
       "      <td>35607</td>\n",
       "      <td>54.62</td>\n",
       "    </tr>\n",
       "    <tr>\n",
       "      <th>1</th>\n",
       "      <td>21STCENMGM</td>\n",
       "      <td>EQ</td>\n",
       "      <td>26-Aug-2021</td>\n",
       "      <td>31.10</td>\n",
       "      <td>31.70</td>\n",
       "      <td>31.70</td>\n",
       "      <td>31.70</td>\n",
       "      <td>31.7</td>\n",
       "      <td>31.70</td>\n",
       "      <td>31.70</td>\n",
       "      <td>46</td>\n",
       "      <td>0.01</td>\n",
       "      <td>5</td>\n",
       "      <td>46</td>\n",
       "      <td>100</td>\n",
       "    </tr>\n",
       "    <tr>\n",
       "      <th>2</th>\n",
       "      <td>3IINFOTECH</td>\n",
       "      <td>BE</td>\n",
       "      <td>26-Aug-2021</td>\n",
       "      <td>7.70</td>\n",
       "      <td>8.05</td>\n",
       "      <td>8.05</td>\n",
       "      <td>8.05</td>\n",
       "      <td>8.05</td>\n",
       "      <td>8.05</td>\n",
       "      <td>8.05</td>\n",
       "      <td>3436619</td>\n",
       "      <td>276.65</td>\n",
       "      <td>1894</td>\n",
       "      <td>-</td>\n",
       "      <td>-</td>\n",
       "    </tr>\n",
       "    <tr>\n",
       "      <th>3</th>\n",
       "      <td>3MINDIA</td>\n",
       "      <td>EQ</td>\n",
       "      <td>26-Aug-2021</td>\n",
       "      <td>22791.50</td>\n",
       "      <td>22818.05</td>\n",
       "      <td>23100.00</td>\n",
       "      <td>22760.00</td>\n",
       "      <td>22870.45</td>\n",
       "      <td>22828.10</td>\n",
       "      <td>22896.07</td>\n",
       "      <td>1862</td>\n",
       "      <td>426.32</td>\n",
       "      <td>1217</td>\n",
       "      <td>1058</td>\n",
       "      <td>56.82</td>\n",
       "    </tr>\n",
       "    <tr>\n",
       "      <th>4</th>\n",
       "      <td>3PLAND</td>\n",
       "      <td>BE</td>\n",
       "      <td>26-Aug-2021</td>\n",
       "      <td>13.25</td>\n",
       "      <td>12.65</td>\n",
       "      <td>13.75</td>\n",
       "      <td>12.65</td>\n",
       "      <td>13.7</td>\n",
       "      <td>13.70</td>\n",
       "      <td>13.37</td>\n",
       "      <td>8916</td>\n",
       "      <td>1.19</td>\n",
       "      <td>25</td>\n",
       "      <td>-</td>\n",
       "      <td>-</td>\n",
       "    </tr>\n",
       "  </tbody>\n",
       "</table>\n",
       "</div>"
      ],
      "text/plain": [
       "       SYMBOL SERIES         DATE1  PREV_CLOSE  OPEN_PRICE  HIGH_PRICE  \\\n",
       "0   20MICRONS     EQ   26-Aug-2021       53.30       53.30       54.50   \n",
       "1  21STCENMGM     EQ   26-Aug-2021       31.10       31.70       31.70   \n",
       "2  3IINFOTECH     BE   26-Aug-2021        7.70        8.05        8.05   \n",
       "3     3MINDIA     EQ   26-Aug-2021    22791.50    22818.05    23100.00   \n",
       "4      3PLAND     BE   26-Aug-2021       13.25       12.65       13.75   \n",
       "\n",
       "   LOW_PRICE LAST_PRICE  CLOSE_PRICE  AVG_PRICE  TTL_TRD_QNTY  TURNOVER_LACS  \\\n",
       "0      51.60       52.8        52.75      53.08         65185          34.60   \n",
       "1      31.70       31.7        31.70      31.70            46           0.01   \n",
       "2       8.05       8.05         8.05       8.05       3436619         276.65   \n",
       "3   22760.00   22870.45     22828.10   22896.07          1862         426.32   \n",
       "4      12.65       13.7        13.70      13.37          8916           1.19   \n",
       "\n",
       "   NO_OF_TRADES DELIV_QTY DELIV_PER  \n",
       "0          1210     35607     54.62  \n",
       "1             5        46       100  \n",
       "2          1894         -         -  \n",
       "3          1217      1058     56.82  \n",
       "4            25         -         -  "
      ]
     },
     "execution_count": 4,
     "metadata": {},
     "output_type": "execute_result"
    }
   ],
   "source": [
    "df.head()"
   ]
  },
  {
   "cell_type": "code",
   "execution_count": 6,
   "id": "c9341326",
   "metadata": {},
   "outputs": [
    {
     "name": "stdout",
     "output_type": "stream",
     "text": [
      "float64\n"
     ]
    }
   ],
   "source": [
    "print(df['PREV_CLOSE'].dtype)"
   ]
  },
  {
   "cell_type": "code",
   "execution_count": 8,
   "id": "c07514be",
   "metadata": {},
   "outputs": [
    {
     "name": "stdout",
     "output_type": "stream",
     "text": [
      "0          53.30\n",
      "1          31.10\n",
      "2           7.70\n",
      "3       22791.50\n",
      "4          13.25\n",
      "          ...   \n",
      "2057      124.25\n",
      "2058      330.25\n",
      "2059      123.90\n",
      "2060      126.50\n",
      "2061     2225.55\n",
      "Name: PREV_CLOSE, Length: 2062, dtype: float64\n"
     ]
    }
   ],
   "source": [
    "print(df['PREV_CLOSE'])"
   ]
  },
  {
   "cell_type": "code",
   "execution_count": 9,
   "id": "fb480b94",
   "metadata": {},
   "outputs": [
    {
     "data": {
      "text/plain": [
       "0        EQ\n",
       "1        EQ\n",
       "2        BE\n",
       "3        EQ\n",
       "4        BE\n",
       "       ... \n",
       "2057     EQ\n",
       "2058     EQ\n",
       "2059     BE\n",
       "2060     BE\n",
       "2061     EQ\n",
       "Name: SERIES, Length: 2062, dtype: category\n",
       "Categories (70, object): [' BE', ' BZ', ' E1', ' EQ', ..., ' Z5', ' Z6', ' Z8', ' ZC']"
      ]
     },
     "execution_count": 9,
     "metadata": {},
     "output_type": "execute_result"
    }
   ],
   "source": [
    "df['SERIES'].astype('category')"
   ]
  }
 ],
 "metadata": {
  "kernelspec": {
   "display_name": "Python 3 (ipykernel)",
   "language": "python",
   "name": "python3"
  },
  "language_info": {
   "codemirror_mode": {
    "name": "ipython",
    "version": 3
   },
   "file_extension": ".py",
   "mimetype": "text/x-python",
   "name": "python",
   "nbconvert_exporter": "python",
   "pygments_lexer": "ipython3",
   "version": "3.8.10"
  }
 },
 "nbformat": 4,
 "nbformat_minor": 5
}
